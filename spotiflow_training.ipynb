{
 "cells": [
  {
   "cell_type": "code",
   "execution_count": 3,
   "metadata": {},
   "outputs": [],
   "source": [
    "from pathlib import Path\n",
    "import pandas as pd\n",
    "import tifffile\n",
    "import numpy as np\n",
    "\n",
    "data_dir = Path(\"/scratch/LASTRO/dataset\")"
   ]
  },
  {
   "cell_type": "code",
   "execution_count": null,
   "metadata": {},
   "outputs": [],
   "source": [
    "images = []\n",
    "labels = []\n",
    "for subfolder in data_dir.iterdir():\n",
    "    df = pd.read_csv(subfolder / \"ellipses.csv\")\n",
    "    if len(df) == 0:\n",
    "        continue\n",
    "    spot_labels = df[[\"idx_x_ra\", \"idx_y_dec\"]].values\n",
    "    spot_labels = df[[\"idx_x_ra\", \"idx_y_dec\"]].values[:, ::-1]  # invert XY?\n",
    "    labels.append(spot_labels)\n",
    "\n",
    "    image_path = subfolder / \"image.tif\"\n",
    "    image = tifffile.imread(image_path)[..., 0]  # First channel?\n",
    "    images.append(image)\n",
    "images = np.array(images)\n",
    "\n",
    "print(images.shape)\n",
    "print(len(labels))"
   ]
  },
  {
   "cell_type": "code",
   "execution_count": null,
   "metadata": {},
   "outputs": [],
   "source": [
    "from spotiflow.model import SpotiflowModelConfig\n",
    "\n",
    "model_config = SpotiflowModelConfig(\n",
    "    # in_channels=3,\n",
    "    in_channels=1,\n",
    ")\n",
    "\n",
    "model_config"
   ]
  },
  {
   "cell_type": "code",
   "execution_count": null,
   "metadata": {},
   "outputs": [],
   "source": [
    "from spotiflow.model import SpotiflowTrainingConfig\n",
    "\n",
    "train_config = dict(\n",
    "    crop_size=128,\n",
    ")\n",
    "\n",
    "train_config"
   ]
  },
  {
   "cell_type": "code",
   "execution_count": 7,
   "metadata": {},
   "outputs": [],
   "source": [
    "from spotiflow.model import Spotiflow"
   ]
  },
  {
   "cell_type": "code",
   "execution_count": 11,
   "metadata": {},
   "outputs": [],
   "source": [
    "model = Spotiflow(model_config)"
   ]
  },
  {
   "cell_type": "code",
   "execution_count": 12,
   "metadata": {},
   "outputs": [],
   "source": [
    "# model = Spotiflow.from_pretrained(\n",
    "#     \"general\",\n",
    "#     inference_mode=False,\n",
    "# )"
   ]
  },
  {
   "cell_type": "code",
   "execution_count": null,
   "metadata": {},
   "outputs": [],
   "source": [
    "model.fit(\n",
    "    images[:140],\n",
    "    labels[:140],\n",
    "    images[140:],\n",
    "    labels[140:],\n",
    "    save_dir=\"/scratch/LASTRO/train_output_xyinvert\",\n",
    "    train_config=train_config,\n",
    "    logger=\"tensorboard\",\n",
    ")"
   ]
  },
  {
   "cell_type": "markdown",
   "metadata": {},
   "source": [
    "model.fit(\n",
    "    train_imgs,\n",
    "    train_spots,\n",
    "    val_imgs,\n",
    "    val_spots,\n",
    "    save_dir=\"/path/to/my_trained_model\",\n",
    "    train_config=train_config,\n",
    "    # other parameters\n",
    ")"
   ]
  },
  {
   "cell_type": "code",
   "execution_count": null,
   "metadata": {},
   "outputs": [],
   "source": []
  }
 ],
 "metadata": {
  "kernelspec": {
   "display_name": "create-dataset-galaxy-detection",
   "language": "python",
   "name": "python3"
  },
  "language_info": {
   "codemirror_mode": {
    "name": "ipython",
    "version": 3
   },
   "file_extension": ".py",
   "mimetype": "text/x-python",
   "name": "python",
   "nbconvert_exporter": "python",
   "pygments_lexer": "ipython3",
   "version": "3.9.21"
  }
 },
 "nbformat": 4,
 "nbformat_minor": 2
}
